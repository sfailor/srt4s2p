{
 "cells": [
  {
   "cell_type": "code",
   "execution_count": null,
   "metadata": {},
   "outputs": [],
   "source": [
    "import srt4s2p\n",
    "\n",
    "expt0_dir = r'\\\\data\\subject\\first_recording\\suite2p'\n",
    "expt1_dir = r'\\\\data\\subject\\second_recording\\suite2p'\n",
    "\n",
    "# Initialize object\n",
    "c  = srt4s2p.Compare2p()\n",
    "\n",
    "# Add recordings to compare. First argument is the suite2p output directory, second argument is the ID you want to give that recording. Recordings can be added individually or together in lists, as below. \n",
    "c.add_recording([expt0_dir,expt1_dir], ['ref','other'])"
   ]
  },
  {
   "cell_type": "code",
   "execution_count": null,
   "metadata": {},
   "outputs": [],
   "source": [
    "# This method brings up a GUI where you can select matching cells or other features between the experiments. Necessary files are loaded and saved to the object, as needed. \n",
    "\n",
    "# First argument is the IDs of the experiments to be compared, the first is the reference. \n",
    "# Second argument is planes to compare, corresponding to the 'plane#' directory in the suite2p output folder\n",
    "\n",
    "# A third optional argument can be given which specifies what 'layers' you want to view. This can be a list of any images in the ops.npy file, e.g., meanImg, meanImgE, Vcorr, or 'rois' which shows an ROI map.\n",
    "# If you want to overlay the Vcorr or ROI map ontop of a mean image, then the list should contain a sublist like ['meanImg','Vcorr'].\n",
    "# Be default, the GUI shows the meanImg, meanImgE, Vcorr overlaid on meanImgE, and rois overlaid on meanImgE\n",
    "\n",
    "# Note, in the GUI double-clicking the left mouse button will tell the toolbox that the two points fall on ROIs that are the same cell.\n",
    "# Double-clicking the right mouse button should be used for matching features that are either not cell ROIs or where you do no want the underlying ROIs considered the same\n",
    "\n",
    "# Pressing w and e cycles through the 'views' whereas pressing d deletes the last placed point on the image currently active (hovering your mouse over an image makes it active)\n",
    "\n",
    "c.compare_planes(('ref','other'),(1,1))\n",
    "\n",
    "# Ideally, you'll want to find at least a dozen or so key points for calculating a transform for alignment. And if you want to be as careful as possible, manually select all ROIs that you are confident are the same cell.\n",
    "\n",
    "# Currently, running the GUI again and adding points will overwrite the previously saved points. Closing the GUI after adding no points does nothing. The future release will bring up previously saved points in the GUI and allow them to be selectively deleted/changed."
   ]
  },
  {
   "cell_type": "code",
   "execution_count": null,
   "metadata": {},
   "outputs": [],
   "source": [
    "# To list all plane comparisons\n",
    "\n",
    "c.list_comparisons()\n"
   ]
  },
  {
   "cell_type": "code",
   "execution_count": null,
   "metadata": {},
   "outputs": [],
   "source": [
    "# Calculate transformation matrix for a plane comparision. \n",
    "\n",
    "# If no plane pair tuple is provided, it's calculated for all ID pair plane comparisons.\n",
    "# By default, this method calculates a projective transform. The type of transform can be specified with the 'method' argument, which currently is either 'perspepctive' or 'similarity'.\n",
    "\n",
    "c.find_transform(('ref','other'))"
   ]
  },
  {
   "cell_type": "code",
   "execution_count": null,
   "metadata": {},
   "outputs": [],
   "source": [
    "# View transformation\n",
    "\n",
    "# To check the transform is accurate. 'image' argument can be any image in ops.npy, e.g., 'meanImg','meanImgE', etc.\n",
    "\n",
    "c.transform_map(('ref','other'),(1,1))"
   ]
  },
  {
   "cell_type": "code",
   "execution_count": null,
   "metadata": {},
   "outputs": [],
   "source": [
    "# Method to manually align ROIs that were selected by double-left clicking in the GUI. If no plane pair tuple is provded, they are found for all ID pair plane comparisons.\n",
    "\n",
    "c.find_manual_matches(('ref','other'),(1,1))\n",
    "\n",
    "# This generates a roi match dataframe. Manually selected matches are given an overlap of 1.\n",
    "\n",
    "# Plane is transformed and ROIs which are overlapping are considered matches, with the level of overlap saved in the dataframe. Again, if no plane pair is provided they are found for all plane comparisons for a given ID pair. \n",
    "# The argument 'overlap' specifies the proportion of overlap needed for ROIs to be considered a match. This defaults to 0.6.\n",
    "\n",
    "c.find_overlapping_rois(('ref','other'),(1,1))"
   ]
  },
  {
   "cell_type": "code",
   "execution_count": null,
   "metadata": {},
   "outputs": [],
   "source": [
    "# Inspect ROI matches\n",
    "\n",
    "# Brings up a GUI where ROIs are shown overlaid on that plane's meanImg/meanImgE/Vcorr/ROI map. \n",
    "# Reference is on left, transformed on right. \n",
    "\n",
    "c.inspect_matches(('ref','other'))\n",
    "\n",
    "# ROI matchs are shown in descending order of overlap proportion\n",
    "\n",
    "# GUI controls\n",
    "\n",
    "# Change background\n",
    "# q - meanImg \n",
    "# w - meanImgE \n",
    "# e - Vcorr\n",
    "# r - ROI map\n",
    "\n",
    "# Cycle through ROIs\n",
    "# a/left click - decrement ROI pair by 1\n",
    "# d/right click - increment ROI pair by 1\n",
    "# s - Change status of match (True/False)\n",
    "\n",
    "\n"
   ]
  },
  {
   "cell_type": "code",
   "execution_count": null,
   "metadata": {},
   "outputs": [],
   "source": [
    "# list matches\n",
    "\n",
    "c.matches[('ref','other')]"
   ]
  },
  {
   "cell_type": "code",
   "execution_count": null,
   "metadata": {},
   "outputs": [],
   "source": [
    "# Save matches\n",
    "# Saves a npy file containing a dictionary containing 'matches', a pandas DataFrame containing all the matching ROIs between the two recordings\n",
    "# and 'rec_dirs', a list of the suite2p recording directories.\n",
    "# By default, the match file is saved in the directory of the reference recording, i.e., the recording directory corresponding to the first ID in the recording pair\n",
    "# but the save path can be specified with the argument 'save_path'\n",
    "\n",
    "\n",
    "c.save_matches(('ref','other'))"
   ]
  }
 ],
 "metadata": {
  "kernelspec": {
   "display_name": "plane_alignment",
   "language": "python",
   "name": "python3"
  },
  "language_info": {
   "codemirror_mode": {
    "name": "ipython",
    "version": 3
   },
   "file_extension": ".py",
   "mimetype": "text/x-python",
   "name": "python",
   "nbconvert_exporter": "python",
   "pygments_lexer": "ipython3",
   "version": "3.9.16"
  },
  "orig_nbformat": 4
 },
 "nbformat": 4,
 "nbformat_minor": 2
}
